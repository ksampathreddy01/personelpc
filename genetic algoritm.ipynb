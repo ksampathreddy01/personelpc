{
 "cells": [
  {
   "cell_type": "code",
   "execution_count": 4,
   "id": "6b4fd16f-8f2b-423c-8ba1-4923c08d4271",
   "metadata": {},
   "outputs": [],
   "source": [
    "import pandas as pd\n",
    "\n",
    "# Load training files\n",
    "train_data = pd.read_csv(r\"C:\\Users\\91739\\OneDrive\\Desktop\\project tamucc\\train.csv\")\n",
    "train_labels = pd.read_csv(r\"C:\\Users\\91739\\OneDrive\\Desktop\\project tamucc\\label_train.csv\")\n",
    "\n",
    "# Load validation files\n",
    "validate_data = pd.read_csv(r\"C:\\Users\\91739\\OneDrive\\Desktop\\project tamucc\\validate.csv\")\n",
    "validate_labels = pd.read_csv(r\"C:\\Users\\91739\\OneDrive\\Desktop\\project tamucc\\label_validate.csv\")\n"
   ]
  },
  {
   "cell_type": "code",
   "execution_count": 5,
   "id": "f4be4576-9b8a-4a0d-a027-6f960710769c",
   "metadata": {},
   "outputs": [
    {
     "name": "stdout",
     "output_type": "stream",
     "text": [
      "[1 1 1 ... 1 0 1]\n",
      "<class 'numpy.ndarray'>\n",
      "1433\n"
     ]
    }
   ],
   "source": [
    "import numpy as np\n",
    "\n",
    "# Define the number of features\n",
    "num_features = 1433\n",
    "\n",
    "# Create a random solution (chromosome)\n",
    "random_solution = np.random.randint(2, size=num_features)\n",
    "\n",
    "# Display the random solution\n",
    "print(random_solution)\n",
    "print(type(random_solution))\n",
    "print(len(random_solution))\n",
    "#print()"
   ]
  },
  {
   "cell_type": "code",
   "execution_count": 6,
   "id": "fd398693-4812-4018-bd20-683ad2d2ed36",
   "metadata": {},
   "outputs": [
    {
     "name": "stdout",
     "output_type": "stream",
     "text": [
      "Sorted population based on accuracy:\n",
      "[[1 0 1 ... 1 0 0]\n",
      " [0 1 1 ... 1 0 1]\n",
      " [1 0 1 ... 0 1 0]\n",
      " ...\n",
      " [0 0 0 ... 1 0 1]\n",
      " [1 0 1 ... 0 1 1]\n",
      " [1 1 1 ... 1 0 1]]\n"
     ]
    }
   ],
   "source": [
    "import numpy as np\n",
    "from sklearn.metrics import accuracy_score\n",
    "from sklearn.model_selection import train_test_split\n",
    "from sklearn.linear_model import LogisticRegression\n",
    "\n",
    "# Assuming you already have the population of solutions\n",
    "population_size = 108\n",
    "num_features = 1433\n",
    "population = np.random.randint(2, size=(population_size, num_features))\n",
    "\n",
    "# Split the validation set into features and labels\n",
    "X_validate = validate_data.values  # Assuming validate_data is your validation feature data\n",
    "y_validate = validate_labels.values.flatten()  # Assuming validate_labels is your validation label data\n",
    "\n",
    "# Initialize a list to store the fitness scores\n",
    "fitness_scores = []\n",
    "\n",
    "# Evaluate fitness for each solution\n",
    "for solution in population:\n",
    "    # Select features based on the solution\n",
    "    selected_features = X_validate[:, solution == 1]\n",
    "\n",
    "    # Split the features and labels into training and validation sets\n",
    "    X_train, X_val, y_train, y_val = train_test_split(selected_features, y_validate, test_size=0.2, random_state=42)\n",
    "\n",
    "    # Train a model (example: Logistic Regression)\n",
    "    model = LogisticRegression()\n",
    "    model.fit(X_train, y_train)\n",
    "\n",
    "    # Evaluate accuracy on the validation set\n",
    "    y_pred = model.predict(X_val)\n",
    "    accuracy = accuracy_score(y_val, y_pred)\n",
    "\n",
    "    # Append the accuracy to the fitness scores list\n",
    "    fitness_scores.append(accuracy)\n",
    "\n",
    "# Sort solutions based on fitness scores (descending order)\n",
    "sorted_indices = np.argsort(fitness_scores)[::-1]\n",
    "sorted_population = population[sorted_indices]\n",
    "\n",
    "# Display the sorted population\n",
    "print(\"Sorted population based on accuracy:\")\n",
    "print(sorted_population)\n"
   ]
  },
  {
   "cell_type": "code",
   "execution_count": 18,
   "id": "9624b84a-e398-407a-8187-b73ce28ac619",
   "metadata": {},
   "outputs": [
    {
     "ename": "IndexError",
     "evalue": "boolean index did not match indexed array along dimension 1; dimension is 752 but corresponding boolean dimension is 1433",
     "output_type": "error",
     "traceback": [
      "\u001b[1;31m---------------------------------------------------------------------------\u001b[0m",
      "\u001b[1;31mIndexError\u001b[0m                                Traceback (most recent call last)",
      "Cell \u001b[1;32mIn[18], line 31\u001b[0m\n\u001b[0;32m     28\u001b[0m \u001b[38;5;66;03m# Main loop for the genetic algorithm\u001b[39;00m\n\u001b[0;32m     29\u001b[0m \u001b[38;5;28;01mfor\u001b[39;00m generation \u001b[38;5;129;01min\u001b[39;00m \u001b[38;5;28mrange\u001b[39m(num_generations):\n\u001b[0;32m     30\u001b[0m     \u001b[38;5;66;03m# Evaluate fitness of the population\u001b[39;00m\n\u001b[1;32m---> 31\u001b[0m     fitness_scores \u001b[38;5;241m=\u001b[39m \u001b[43mevaluate_fitness\u001b[49m\u001b[43m(\u001b[49m\u001b[43mpopulation\u001b[49m\u001b[43m,\u001b[49m\u001b[43m \u001b[49m\u001b[43mX_train\u001b[49m\u001b[43m,\u001b[49m\u001b[43m \u001b[49m\u001b[43my_train\u001b[49m\u001b[43m,\u001b[49m\u001b[43m \u001b[49m\u001b[43mX_val\u001b[49m\u001b[43m,\u001b[49m\u001b[43m \u001b[49m\u001b[43my_val\u001b[49m\u001b[43m)\u001b[49m  \u001b[38;5;66;03m# Pass X_train, y_train, X_val, y_val to evaluate_fitness\u001b[39;00m\n\u001b[0;32m     33\u001b[0m     \u001b[38;5;66;03m# Rest of the genetic algorithm implementation...\u001b[39;00m\n\u001b[0;32m     35\u001b[0m selected_solutions \u001b[38;5;241m=\u001b[39m roulette_wheel_selection(population, fitness_scores)\n",
      "Cell \u001b[1;32mIn[17], line 31\u001b[0m, in \u001b[0;36mevaluate_fitness\u001b[1;34m(population, X_train, y_train, X_val, y_val)\u001b[0m\n\u001b[0;32m     28\u001b[0m fitness_scores \u001b[38;5;241m=\u001b[39m []\n\u001b[0;32m     29\u001b[0m \u001b[38;5;28;01mfor\u001b[39;00m individual \u001b[38;5;129;01min\u001b[39;00m population:\n\u001b[0;32m     30\u001b[0m     \u001b[38;5;66;03m# Select features based on the individual's chromosome\u001b[39;00m\n\u001b[1;32m---> 31\u001b[0m     selected_features \u001b[38;5;241m=\u001b[39m \u001b[43mX_train\u001b[49m\u001b[43m[\u001b[49m\u001b[43m:\u001b[49m\u001b[43m,\u001b[49m\u001b[43m \u001b[49m\u001b[43mindividual\u001b[49m\u001b[43m \u001b[49m\u001b[38;5;241;43m==\u001b[39;49m\u001b[43m \u001b[49m\u001b[38;5;241;43m1\u001b[39;49m\u001b[43m]\u001b[49m\n\u001b[0;32m     33\u001b[0m     \u001b[38;5;66;03m# Train a support vector machine classifier\u001b[39;00m\n\u001b[0;32m     34\u001b[0m     model \u001b[38;5;241m=\u001b[39m SVC()\n",
      "\u001b[1;31mIndexError\u001b[0m: boolean index did not match indexed array along dimension 1; dimension is 752 but corresponding boolean dimension is 1433"
     ]
    }
   ],
   "source": [
    "import numpy as np\n",
    "\n",
    "def roulette_wheel_selection(population, fitness_scores):\n",
    "    # Normalize fitness scores\n",
    "    normalized_fitness = fitness_scores / np.sum(fitness_scores)\n",
    "    \n",
    "    # Compute cumulative probabilities\n",
    "    cumulative_probs = np.cumsum(normalized_fitness)\n",
    "    \n",
    "    # Select solutions probabilistically\n",
    "    selected_indices = []\n",
    "    for _ in range(len(population)):\n",
    "        r = np.random.rand()  # Random number between 0 and 1\n",
    "        for i, cum_prob in enumerate(cumulative_probs):\n",
    "            if r <= cum_prob:\n",
    "                selected_indices.append(i)\n",
    "                break\n",
    "                \n",
    "    return population[selected_indices]\n",
    "\n",
    "# Example usage\n",
    "# population = np.random.randint(2, size=(100, num_features))  # Example population\n",
    "# fitness_scores = np.random.rand(100)  # Example fitness scores\n",
    "\n",
    "# Initialize the population\n",
    "population = np.random.randint(2, size=(population_size, num_features))  # Ensure num_features matches the actual number of features\n",
    "\n",
    "# Main loop for the genetic algorithm\n",
    "for generation in range(num_generations):\n",
    "    # Evaluate fitness of the population\n",
    "    fitness_scores = evaluate_fitness(population, X_train, y_train, X_val, y_val)  # Pass X_train, y_train, X_val, y_val to evaluate_fitness\n",
    "\n",
    "    # Rest of the genetic algorithm implementation...\n",
    "\n",
    "selected_solutions = roulette_wheel_selection(population, fitness_scores)\n"
   ]
  },
  {
   "cell_type": "code",
   "execution_count": 8,
   "id": "056c1e2c-ba4e-436f-85d3-0a5cddc43464",
   "metadata": {},
   "outputs": [
    {
     "name": "stdout",
     "output_type": "stream",
     "text": [
      "Parent 1: [1 0 1 0 1 0 1 1 0 0 1]\n",
      "Parent 2: [0 1 0 1 0 1 0 0 1 1 0]\n",
      "Child 1: [1 0 1 1 0 1 0 0 1 1 0]\n",
      "Child 2: [0 1 0 0 1 0 1 1 0 0 1]\n"
     ]
    }
   ],
   "source": [
    "def single_point_crossover(parent1, parent2):\n",
    "    # Select a random crossover point\n",
    "    crossover_point = np.random.randint(1, len(parent1))\n",
    "\n",
    "    # Perform crossover\n",
    "    child1 = np.concatenate((parent1[:crossover_point], parent2[crossover_point:]))\n",
    "    child2 = np.concatenate((parent2[:crossover_point], parent1[crossover_point:]))\n",
    "\n",
    "    return child1, child2\n",
    "\n",
    "# Example usage\n",
    "parent1 = np.array([1, 0, 1, 0, 1, 0, 1, 1, 0, 0, 1])\n",
    "parent2 = np.array([0, 1, 0, 1, 0, 1, 0, 0, 1, 1, 0])\n",
    "\n",
    "child1, child2 = single_point_crossover(parent1, parent2)\n",
    "print(\"Parent 1:\", parent1)\n",
    "print(\"Parent 2:\", parent2)\n",
    "print(\"Child 1:\", child1)\n",
    "print(\"Child 2:\", child2)\n"
   ]
  },
  {
   "cell_type": "code",
   "execution_count": 9,
   "id": "afcb13cc-f821-4a4d-b3cf-78043970847a",
   "metadata": {},
   "outputs": [
    {
     "name": "stdout",
     "output_type": "stream",
     "text": [
      "Offspring before mutation: [1 0 1 0 1 0 1 1 0 0 1]\n",
      "Mutated offspring: [1 0 1 0 1 0 1 1 0 1 1]\n"
     ]
    }
   ],
   "source": [
    "def mutation(chromosome, mutation_rate):\n",
    "    mutated_chromosome = chromosome.copy()\n",
    "    for i in range(len(chromosome)):\n",
    "        if np.random.rand() < mutation_rate:\n",
    "            # Flip the bit (gene) with probability mutation_rate\n",
    "            mutated_chromosome[i] = 1 - mutated_chromosome[i]\n",
    "    return mutated_chromosome\n",
    "\n",
    "# Example usage\n",
    "offspring = np.array([1, 0, 1, 0, 1, 0, 1, 1, 0, 0, 1])  # Example offspring chromosome\n",
    "mutation_rate = 0.1  # Mutation rate (probability of mutation for each gene)\n",
    "\n",
    "mutated_offspring = mutation(offspring, mutation_rate)\n",
    "print(\"Offspring before mutation:\", offspring)\n",
    "print(\"Mutated offspring:\", mutated_offspring)\n"
   ]
  },
  {
   "cell_type": "code",
   "execution_count": 10,
   "id": "8112c255-5e29-4e0d-ae4e-05d91f7fb6dd",
   "metadata": {},
   "outputs": [],
   "source": [
    "def replace_population(old_population, offspring, num_elites):\n",
    "    # Sort the old population based on fitness (if necessary)\n",
    "    # ...\n",
    "\n",
    "    # Select the top 'num_elites' best-performing parent chromosomes\n",
    "    elites = old_population[:num_elites]\n",
    "\n",
    "    # Combine elites and offspring to form the new population\n",
    "    new_population = np.concatenate((elites, offspring))\n",
    "\n",
    "    return new_population\n",
    "\n",
    "# Example usage\n",
    "old_population = np.random.randint(2, size=(100, num_features))  # Example old population\n",
    "offspring = np.random.randint(2, size=(50, num_features))  # Example offspring chromosomes\n",
    "num_elites = 10  # Number of best-performing parent chromosomes to retain in the new population\n",
    "\n",
    "new_population = replace_population(old_population, offspring, num_elites)\n"
   ]
  },
  {
   "cell_type": "code",
   "execution_count": 17,
   "id": "81469b7d-9151-4e0a-a0d4-f48d20f5e22e",
   "metadata": {},
   "outputs": [],
   "source": [
    "# from sklearn.svm import SVC\n",
    "# from sklearn.metrics import accuracy_score\n",
    "\n",
    "# def evaluate_fitness(population):\n",
    "#     fitness_scores = []\n",
    "#     for individual in population:\n",
    "#         # Select features based on the individual's chromosome\n",
    "#         selected_features = X_train[:, individual == 1]\n",
    "        \n",
    "\n",
    "#         # Train a support vector machine classifier\n",
    "#         model = SVC()\n",
    "#         model.fit(selected_features, y_train)\n",
    "\n",
    "#         # Evaluate accuracy on the validation set\n",
    "#         selected_features_val = X_val[:, individual == 1]\n",
    "#         y_pred = model.predict(selected_features_val)\n",
    "#         accuracy = accuracy_score(y_val, y_pred)\n",
    "\n",
    "#         # Append accuracy to the fitness scores list\n",
    "#         fitness_scores.append(accuracy)\n",
    "\n",
    "#     return fitness_scores\n",
    "from sklearn.svm import SVC\n",
    "from sklearn.metrics import accuracy_score\n",
    "\n",
    "def evaluate_fitness(population, X_train, y_train, X_val, y_val):\n",
    "    fitness_scores = []\n",
    "    for individual in population:\n",
    "        # Select features based on the individual's chromosome\n",
    "        selected_features = X_train[:, individual == 1]\n",
    "\n",
    "        # Train a support vector machine classifier\n",
    "        model = SVC()\n",
    "        model.fit(selected_features, y_train)\n",
    "\n",
    "        # Evaluate accuracy on the validation set\n",
    "        selected_features_val = X_val[:, individual == 1]\n",
    "        y_pred = model.predict(selected_features_val)\n",
    "        accuracy = accuracy_score(y_val, y_pred)\n",
    "\n",
    "        # Append accuracy to the fitness scores list\n",
    "        fitness_scores.append(accuracy)\n",
    "\n",
    "    return fitness_scores\n"
   ]
  },
  {
   "cell_type": "code",
   "execution_count": 14,
   "id": "6be1e2e0",
   "metadata": {},
   "outputs": [
    {
     "name": "stdout",
     "output_type": "stream",
     "text": [
      "X_train shape: (85, 752)\n"
     ]
    },
    {
     "ename": "NameError",
     "evalue": "name 'individual' is not defined",
     "output_type": "error",
     "traceback": [
      "\u001b[1;31m---------------------------------------------------------------------------\u001b[0m",
      "\u001b[1;31mNameError\u001b[0m                                 Traceback (most recent call last)",
      "Cell \u001b[1;32mIn[14], line 2\u001b[0m\n\u001b[0;32m      1\u001b[0m \u001b[38;5;28mprint\u001b[39m(\u001b[38;5;124m\"\u001b[39m\u001b[38;5;124mX_train shape:\u001b[39m\u001b[38;5;124m\"\u001b[39m, X_train\u001b[38;5;241m.\u001b[39mshape)\n\u001b[1;32m----> 2\u001b[0m \u001b[38;5;28mprint\u001b[39m(\u001b[38;5;124m\"\u001b[39m\u001b[38;5;124mBoolean index shape:\u001b[39m\u001b[38;5;124m\"\u001b[39m, \u001b[43mindividual\u001b[49m\u001b[38;5;241m.\u001b[39mshape)\n",
      "\u001b[1;31mNameError\u001b[0m: name 'individual' is not defined"
     ]
    }
   ],
   "source": [
    "print(\"X_train shape:\", X_train.shape)\n",
    "print(\"Boolean index shape:\", individual.shape)\n"
   ]
  },
  {
   "cell_type": "code",
   "execution_count": 13,
   "id": "20eb5533-e8fc-44a9-b83a-0121759e7abc",
   "metadata": {},
   "outputs": [
    {
     "ename": "IndexError",
     "evalue": "boolean index did not match indexed array along dimension 1; dimension is 752 but corresponding boolean dimension is 1433",
     "output_type": "error",
     "traceback": [
      "\u001b[1;31m---------------------------------------------------------------------------\u001b[0m",
      "\u001b[1;31mIndexError\u001b[0m                                Traceback (most recent call last)",
      "Cell \u001b[1;32mIn[13], line 47\u001b[0m\n\u001b[0;32m     44\u001b[0m mutation_rate \u001b[38;5;241m=\u001b[39m \u001b[38;5;241m0.01\u001b[39m\n\u001b[0;32m     45\u001b[0m num_elites \u001b[38;5;241m=\u001b[39m \u001b[38;5;241m10\u001b[39m\n\u001b[1;32m---> 47\u001b[0m final_population \u001b[38;5;241m=\u001b[39m \u001b[43mgenetic_algorithm\u001b[49m\u001b[43m(\u001b[49m\u001b[43mpopulation_size\u001b[49m\u001b[43m,\u001b[49m\u001b[43m \u001b[49m\u001b[43mnum_features\u001b[49m\u001b[43m,\u001b[49m\u001b[43m \u001b[49m\u001b[43mnum_generations\u001b[49m\u001b[43m,\u001b[49m\u001b[43m \u001b[49m\u001b[43mcrossover_rate\u001b[49m\u001b[43m,\u001b[49m\u001b[43m \u001b[49m\u001b[43mmutation_rate\u001b[49m\u001b[43m,\u001b[49m\u001b[43m \u001b[49m\u001b[43mnum_elites\u001b[49m\u001b[43m)\u001b[49m\n",
      "Cell \u001b[1;32mIn[13], line 8\u001b[0m, in \u001b[0;36mgenetic_algorithm\u001b[1;34m(population_size, num_features, num_generations, crossover_rate, mutation_rate, num_elites)\u001b[0m\n\u001b[0;32m      5\u001b[0m \u001b[38;5;66;03m# Main loop for the genetic algorithm\u001b[39;00m\n\u001b[0;32m      6\u001b[0m \u001b[38;5;28;01mfor\u001b[39;00m generation \u001b[38;5;129;01min\u001b[39;00m \u001b[38;5;28mrange\u001b[39m(num_generations):\n\u001b[0;32m      7\u001b[0m     \u001b[38;5;66;03m# Evaluate fitness of the population\u001b[39;00m\n\u001b[1;32m----> 8\u001b[0m     fitness_scores \u001b[38;5;241m=\u001b[39m \u001b[43mevaluate_fitness\u001b[49m\u001b[43m(\u001b[49m\u001b[43mpopulation\u001b[49m\u001b[43m)\u001b[49m  \u001b[38;5;66;03m# Implement your fitness evaluation function\u001b[39;00m\n\u001b[0;32m     10\u001b[0m     \u001b[38;5;66;03m# Select parent chromosomes for crossover\u001b[39;00m\n\u001b[0;32m     11\u001b[0m     selected_parents \u001b[38;5;241m=\u001b[39m roulette_wheel_selection(population, fitness_scores)\n",
      "Cell \u001b[1;32mIn[11], line 8\u001b[0m, in \u001b[0;36mevaluate_fitness\u001b[1;34m(population)\u001b[0m\n\u001b[0;32m      5\u001b[0m fitness_scores \u001b[38;5;241m=\u001b[39m []\n\u001b[0;32m      6\u001b[0m \u001b[38;5;28;01mfor\u001b[39;00m individual \u001b[38;5;129;01min\u001b[39;00m population:\n\u001b[0;32m      7\u001b[0m     \u001b[38;5;66;03m# Select features based on the individual's chromosome\u001b[39;00m\n\u001b[1;32m----> 8\u001b[0m     selected_features \u001b[38;5;241m=\u001b[39m \u001b[43mX_train\u001b[49m\u001b[43m[\u001b[49m\u001b[43m:\u001b[49m\u001b[43m,\u001b[49m\u001b[43m \u001b[49m\u001b[43mindividual\u001b[49m\u001b[43m \u001b[49m\u001b[38;5;241;43m==\u001b[39;49m\u001b[43m \u001b[49m\u001b[38;5;241;43m1\u001b[39;49m\u001b[43m]\u001b[49m\n\u001b[0;32m     11\u001b[0m     \u001b[38;5;66;03m# Train a support vector machine classifier\u001b[39;00m\n\u001b[0;32m     12\u001b[0m     model \u001b[38;5;241m=\u001b[39m SVC()\n",
      "\u001b[1;31mIndexError\u001b[0m: boolean index did not match indexed array along dimension 1; dimension is 752 but corresponding boolean dimension is 1433"
     ]
    }
   ],
   "source": [
    "def genetic_algorithm(population_size, num_features, num_generations, crossover_rate, mutation_rate, num_elites):\n",
    "    # Initialize the population\n",
    "    population = np.random.randint(2, size=(population_size, num_features))\n",
    "\n",
    "    # Main loop for the genetic algorithm\n",
    "    for generation in range(num_generations):\n",
    "        # Evaluate fitness of the population\n",
    "        fitness_scores = evaluate_fitness(population)  # Implement your fitness evaluation function\n",
    "\n",
    "        # Select parent chromosomes for crossover\n",
    "        selected_parents = roulette_wheel_selection(population, fitness_scores)\n",
    "\n",
    "        # Apply crossover to create offspring\n",
    "        offspring = []\n",
    "        for i in range(0, population_size, 2):\n",
    "            if np.random.rand() < crossover_rate:\n",
    "                parent1 = selected_parents[i]\n",
    "                parent2 = selected_parents[i+1]\n",
    "                child1, child2 = single_point_crossover(parent1, parent2)\n",
    "                offspring.append(child1)\n",
    "                offspring.append(child2)\n",
    "            else:\n",
    "                offspring.append(selected_parents[i])\n",
    "                offspring.append(selected_parents[i+1])\n",
    "\n",
    "        # Apply mutation to offspring\n",
    "        for i in range(len(offspring)):\n",
    "            offspring[i] = mutation(offspring[i], mutation_rate)\n",
    "\n",
    "        # Replace the old population with the new population\n",
    "        population = replace_population(population, offspring, num_elites)\n",
    "\n",
    "        # Termination condition (example: stop after a fixed number of generations)\n",
    "        if termination_condition_met():\n",
    "            break\n",
    "\n",
    "    return population\n",
    "\n",
    "# Example usage\n",
    "population_size = 100\n",
    "num_features = 1433\n",
    "num_generations = 100\n",
    "crossover_rate = 0.8\n",
    "mutation_rate = 0.01\n",
    "num_elites = 10\n",
    "\n",
    "final_population = genetic_algorithm(population_size, num_features, num_generations, crossover_rate, mutation_rate, num_elites)\n"
   ]
  },
  {
   "cell_type": "code",
   "execution_count": null,
   "id": "a515574e-e388-4453-8ab9-4b1f219cd8cf",
   "metadata": {},
   "outputs": [],
   "source": []
  }
 ],
 "metadata": {
  "kernelspec": {
   "display_name": "Python 3 (ipykernel)",
   "language": "python",
   "name": "python3"
  },
  "language_info": {
   "codemirror_mode": {
    "name": "ipython",
    "version": 3
   },
   "file_extension": ".py",
   "mimetype": "text/x-python",
   "name": "python",
   "nbconvert_exporter": "python",
   "pygments_lexer": "ipython3",
   "version": "3.11.2"
  }
 },
 "nbformat": 4,
 "nbformat_minor": 5
}
